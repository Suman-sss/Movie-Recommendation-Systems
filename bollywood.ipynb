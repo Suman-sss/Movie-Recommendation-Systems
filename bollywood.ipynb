{
 "cells": [
  {
   "cell_type": "code",
   "execution_count": 42,
   "metadata": {},
   "outputs": [],
   "source": [
    "import pandas as pd\n",
    "import numpy as np\n",
    "import requests\n",
    "import bs4 as bs\n",
    "import urllib.request"
   ]
  },
  {
   "cell_type": "code",
   "execution_count": 43,
   "metadata": {},
   "outputs": [],
   "source": [
    "link = 'https://en.wikipedia.org/wiki/List_of_Bollywood_films_of_2020'"
   ]
  },
  {
   "cell_type": "code",
   "execution_count": 44,
   "metadata": {},
   "outputs": [],
   "source": [
    "source = urllib.request.urlopen(link).read()\n",
    "soup = bs.BeautifulSoup(source,'lxml')"
   ]
  },
  {
   "cell_type": "code",
   "execution_count": 45,
   "metadata": {},
   "outputs": [],
   "source": [
    "tables = soup.find_all('table',class_='wikitable')"
   ]
  },
  {
   "cell_type": "code",
   "execution_count": 46,
   "metadata": {},
   "outputs": [
    {
     "data": {
      "text/plain": [
       "5"
      ]
     },
     "execution_count": 46,
     "metadata": {},
     "output_type": "execute_result"
    }
   ],
   "source": [
    "len(tables)"
   ]
  },
  {
   "cell_type": "code",
   "execution_count": 47,
   "metadata": {},
   "outputs": [
    {
     "data": {
      "text/plain": [
       "bs4.element.Tag"
      ]
     },
     "execution_count": 47,
     "metadata": {},
     "output_type": "execute_result"
    }
   ],
   "source": [
    "type(tables[0])"
   ]
  },
  {
   "cell_type": "code",
   "execution_count": 48,
   "metadata": {},
   "outputs": [],
   "source": [
    "df1 = pd.read_html(str(tables[1]))[0]\n",
    "df2 = pd.read_html(str(tables[2]))[0]\n",
    "df3 = pd.read_html(str(tables[3]))[0]\n",
    "df4 = pd.read_html(str(tables[4]).replace(\"'1\\\"\\'\",'\"1\"'))[0]"
   ]
  },
  {
   "cell_type": "code",
   "execution_count": 49,
   "metadata": {},
   "outputs": [],
   "source": [
    "df = df1.append(df2.append(df3.append(df4,ignore_index=True),ignore_index=True),ignore_index=True)"
   ]
  },
  {
   "cell_type": "code",
   "execution_count": 50,
   "metadata": {},
   "outputs": [
    {
     "data": {
      "text/html": [
       "<div>\n",
       "<style scoped>\n",
       "    .dataframe tbody tr th:only-of-type {\n",
       "        vertical-align: middle;\n",
       "    }\n",
       "\n",
       "    .dataframe tbody tr th {\n",
       "        vertical-align: top;\n",
       "    }\n",
       "\n",
       "    .dataframe thead th {\n",
       "        text-align: right;\n",
       "    }\n",
       "</style>\n",
       "<table border=\"1\" class=\"dataframe\">\n",
       "  <thead>\n",
       "    <tr style=\"text-align: right;\">\n",
       "      <th></th>\n",
       "      <th>Opening</th>\n",
       "      <th>Opening.1</th>\n",
       "      <th>Title</th>\n",
       "      <th>Director</th>\n",
       "      <th>Cast</th>\n",
       "      <th>Studio (production house)</th>\n",
       "      <th>Ref.</th>\n",
       "    </tr>\n",
       "  </thead>\n",
       "  <tbody>\n",
       "    <tr>\n",
       "      <th>0</th>\n",
       "      <td>JAN</td>\n",
       "      <td>1</td>\n",
       "      <td>Ghost Stories</td>\n",
       "      <td>Karan JoharDibakar BanerjeeZoya AkhtarAnurag K...</td>\n",
       "      <td>Sobhita DhulipalaMrunal ThakurAvinash TiwaryJa...</td>\n",
       "      <td>RSVP Movies, Flying Unicorn Entertainment, Net...</td>\n",
       "      <td>[12]</td>\n",
       "    </tr>\n",
       "    <tr>\n",
       "      <th>1</th>\n",
       "      <td>JAN</td>\n",
       "      <td>3</td>\n",
       "      <td>Bhangra Paa Le</td>\n",
       "      <td>Sneha Taurani</td>\n",
       "      <td>Sunny KaushalRukshar DhillonShriya Pilgaonkar</td>\n",
       "      <td>RSVP Movies</td>\n",
       "      <td>[13]</td>\n",
       "    </tr>\n",
       "    <tr>\n",
       "      <th>2</th>\n",
       "      <td>JAN</td>\n",
       "      <td>3</td>\n",
       "      <td>Sab Kushal Mangal</td>\n",
       "      <td>Karan Vishwanath Kashyap</td>\n",
       "      <td>Akshaye KhannaRiva KishanPriyank Sharma</td>\n",
       "      <td>One Up Entertainment</td>\n",
       "      <td>[14]</td>\n",
       "    </tr>\n",
       "    <tr>\n",
       "      <th>3</th>\n",
       "      <td>JAN</td>\n",
       "      <td>3</td>\n",
       "      <td>Shimla Mirchi</td>\n",
       "      <td>Ramesh Sippy</td>\n",
       "      <td>Hema MaliniRajkummar RaoRakul Preet Singh</td>\n",
       "      <td>Viacom18 Motion Pictures</td>\n",
       "      <td>[15]</td>\n",
       "    </tr>\n",
       "    <tr>\n",
       "      <th>4</th>\n",
       "      <td>JAN</td>\n",
       "      <td>10</td>\n",
       "      <td>Chhapaak</td>\n",
       "      <td>Meghna Gulzar</td>\n",
       "      <td>Deepika PadukoneVikrant Massey</td>\n",
       "      <td>Fox Star Studios, Ka Productions, Mriga Films</td>\n",
       "      <td>[16]</td>\n",
       "    </tr>\n",
       "    <tr>\n",
       "      <th>...</th>\n",
       "      <td>...</td>\n",
       "      <td>...</td>\n",
       "      <td>...</td>\n",
       "      <td>...</td>\n",
       "      <td>...</td>\n",
       "      <td>...</td>\n",
       "      <td>...</td>\n",
       "    </tr>\n",
       "    <tr>\n",
       "      <th>65</th>\n",
       "      <td>NOV</td>\n",
       "      <td>13</td>\n",
       "      <td>Dhaakad</td>\n",
       "      <td>Razneesh ‘Razy’ Ghai</td>\n",
       "      <td>Kangana RanautMahaakshay Chakraborty</td>\n",
       "      <td>Sohail Makai Productions, Asylum Films</td>\n",
       "      <td>[84]</td>\n",
       "    </tr>\n",
       "    <tr>\n",
       "      <th>66</th>\n",
       "      <td>NOV</td>\n",
       "      <td>13</td>\n",
       "      <td>Aankh Micholi</td>\n",
       "      <td>Umesh Shukla</td>\n",
       "      <td>Abhimanyu DassaniMrunal ThakurParesh RawalShar...</td>\n",
       "      <td>Sony Pictures Releasing</td>\n",
       "      <td>[85][86][87]</td>\n",
       "    </tr>\n",
       "    <tr>\n",
       "      <th>67</th>\n",
       "      <td>NOV</td>\n",
       "      <td>20</td>\n",
       "      <td>Untitled film</td>\n",
       "      <td>Vardhan Ketkar</td>\n",
       "      <td>Sidharth MalhotraMrunal ThakurAmyra DasturAdit...</td>\n",
       "      <td>T-Series</td>\n",
       "      <td>[88][89]</td>\n",
       "    </tr>\n",
       "    <tr>\n",
       "      <th>68</th>\n",
       "      <td>DEC</td>\n",
       "      <td>4</td>\n",
       "      <td>Brahmastra</td>\n",
       "      <td>Ayan Mukerji</td>\n",
       "      <td>Amitabh BachchanRanbir KapoorAlia BhattMouni R...</td>\n",
       "      <td>Dharma Productions, Fox Star Studios</td>\n",
       "      <td>[90][91]</td>\n",
       "    </tr>\n",
       "    <tr>\n",
       "      <th>69</th>\n",
       "      <td>DEC</td>\n",
       "      <td>25</td>\n",
       "      <td>Laal Singh Chaddha</td>\n",
       "      <td>Advait Chandan</td>\n",
       "      <td>Aamir KhanKareena KapoorVijay SethupathiSharma...</td>\n",
       "      <td>Viacom18 Motion Pictures, Aamir Khan Productions</td>\n",
       "      <td>[92][93][94]</td>\n",
       "    </tr>\n",
       "  </tbody>\n",
       "</table>\n",
       "<p>70 rows × 7 columns</p>\n",
       "</div>"
      ],
      "text/plain": [
       "   Opening  Opening.1               Title  \\\n",
       "0      JAN          1       Ghost Stories   \n",
       "1      JAN          3      Bhangra Paa Le   \n",
       "2      JAN          3   Sab Kushal Mangal   \n",
       "3      JAN          3       Shimla Mirchi   \n",
       "4      JAN         10            Chhapaak   \n",
       "..     ...        ...                 ...   \n",
       "65     NOV         13             Dhaakad   \n",
       "66     NOV         13       Aankh Micholi   \n",
       "67     NOV         20       Untitled film   \n",
       "68     DEC          4          Brahmastra   \n",
       "69     DEC         25  Laal Singh Chaddha   \n",
       "\n",
       "                                             Director  \\\n",
       "0   Karan JoharDibakar BanerjeeZoya AkhtarAnurag K...   \n",
       "1                                       Sneha Taurani   \n",
       "2                            Karan Vishwanath Kashyap   \n",
       "3                                        Ramesh Sippy   \n",
       "4                                       Meghna Gulzar   \n",
       "..                                                ...   \n",
       "65                               Razneesh ‘Razy’ Ghai   \n",
       "66                                       Umesh Shukla   \n",
       "67                                     Vardhan Ketkar   \n",
       "68                                       Ayan Mukerji   \n",
       "69                                     Advait Chandan   \n",
       "\n",
       "                                                 Cast  \\\n",
       "0   Sobhita DhulipalaMrunal ThakurAvinash TiwaryJa...   \n",
       "1       Sunny KaushalRukshar DhillonShriya Pilgaonkar   \n",
       "2             Akshaye KhannaRiva KishanPriyank Sharma   \n",
       "3           Hema MaliniRajkummar RaoRakul Preet Singh   \n",
       "4                      Deepika PadukoneVikrant Massey   \n",
       "..                                                ...   \n",
       "65               Kangana RanautMahaakshay Chakraborty   \n",
       "66  Abhimanyu DassaniMrunal ThakurParesh RawalShar...   \n",
       "67  Sidharth MalhotraMrunal ThakurAmyra DasturAdit...   \n",
       "68  Amitabh BachchanRanbir KapoorAlia BhattMouni R...   \n",
       "69  Aamir KhanKareena KapoorVijay SethupathiSharma...   \n",
       "\n",
       "                            Studio (production house)          Ref.  \n",
       "0   RSVP Movies, Flying Unicorn Entertainment, Net...          [12]  \n",
       "1                                         RSVP Movies          [13]  \n",
       "2                                One Up Entertainment          [14]  \n",
       "3                            Viacom18 Motion Pictures          [15]  \n",
       "4       Fox Star Studios, Ka Productions, Mriga Films          [16]  \n",
       "..                                                ...           ...  \n",
       "65             Sohail Makai Productions, Asylum Films          [84]  \n",
       "66                            Sony Pictures Releasing  [85][86][87]  \n",
       "67                                           T-Series      [88][89]  \n",
       "68               Dharma Productions, Fox Star Studios      [90][91]  \n",
       "69   Viacom18 Motion Pictures, Aamir Khan Productions  [92][93][94]  \n",
       "\n",
       "[70 rows x 7 columns]"
      ]
     },
     "execution_count": 50,
     "metadata": {},
     "output_type": "execute_result"
    }
   ],
   "source": [
    "df"
   ]
  },
  {
   "cell_type": "code",
   "execution_count": 55,
   "metadata": {},
   "outputs": [],
   "source": [
    "df = df[['Title', 'Cast']]"
   ]
  },
  {
   "cell_type": "code",
   "execution_count": 63,
   "metadata": {},
   "outputs": [],
   "source": [
    "df = df.rename(columns = {'Title': 'movie_title', 'Cast': 'actors'})"
   ]
  },
  {
   "cell_type": "code",
   "execution_count": 64,
   "metadata": {},
   "outputs": [],
   "source": [
    "df['movie_title'] = df['movie_title'].str.lower()"
   ]
  },
  {
   "cell_type": "code",
   "execution_count": 65,
   "metadata": {},
   "outputs": [
    {
     "data": {
      "text/html": [
       "<div>\n",
       "<style scoped>\n",
       "    .dataframe tbody tr th:only-of-type {\n",
       "        vertical-align: middle;\n",
       "    }\n",
       "\n",
       "    .dataframe tbody tr th {\n",
       "        vertical-align: top;\n",
       "    }\n",
       "\n",
       "    .dataframe thead th {\n",
       "        text-align: right;\n",
       "    }\n",
       "</style>\n",
       "<table border=\"1\" class=\"dataframe\">\n",
       "  <thead>\n",
       "    <tr style=\"text-align: right;\">\n",
       "      <th></th>\n",
       "      <th>movie_title</th>\n",
       "      <th>actors</th>\n",
       "    </tr>\n",
       "  </thead>\n",
       "  <tbody>\n",
       "    <tr>\n",
       "      <th>0</th>\n",
       "      <td>ghost stories</td>\n",
       "      <td>Sobhita DhulipalaMrunal ThakurAvinash TiwaryJa...</td>\n",
       "    </tr>\n",
       "    <tr>\n",
       "      <th>1</th>\n",
       "      <td>bhangra paa le</td>\n",
       "      <td>Sunny KaushalRukshar DhillonShriya Pilgaonkar</td>\n",
       "    </tr>\n",
       "    <tr>\n",
       "      <th>2</th>\n",
       "      <td>sab kushal mangal</td>\n",
       "      <td>Akshaye KhannaRiva KishanPriyank Sharma</td>\n",
       "    </tr>\n",
       "    <tr>\n",
       "      <th>3</th>\n",
       "      <td>shimla mirchi</td>\n",
       "      <td>Hema MaliniRajkummar RaoRakul Preet Singh</td>\n",
       "    </tr>\n",
       "    <tr>\n",
       "      <th>4</th>\n",
       "      <td>chhapaak</td>\n",
       "      <td>Deepika PadukoneVikrant Massey</td>\n",
       "    </tr>\n",
       "    <tr>\n",
       "      <th>...</th>\n",
       "      <td>...</td>\n",
       "      <td>...</td>\n",
       "    </tr>\n",
       "    <tr>\n",
       "      <th>65</th>\n",
       "      <td>dhaakad</td>\n",
       "      <td>Kangana RanautMahaakshay Chakraborty</td>\n",
       "    </tr>\n",
       "    <tr>\n",
       "      <th>66</th>\n",
       "      <td>aankh micholi</td>\n",
       "      <td>Abhimanyu DassaniMrunal ThakurParesh RawalShar...</td>\n",
       "    </tr>\n",
       "    <tr>\n",
       "      <th>67</th>\n",
       "      <td>untitled film</td>\n",
       "      <td>Sidharth MalhotraMrunal ThakurAmyra DasturAdit...</td>\n",
       "    </tr>\n",
       "    <tr>\n",
       "      <th>68</th>\n",
       "      <td>brahmastra</td>\n",
       "      <td>Amitabh BachchanRanbir KapoorAlia BhattMouni R...</td>\n",
       "    </tr>\n",
       "    <tr>\n",
       "      <th>69</th>\n",
       "      <td>laal singh chaddha</td>\n",
       "      <td>Aamir KhanKareena KapoorVijay SethupathiSharma...</td>\n",
       "    </tr>\n",
       "  </tbody>\n",
       "</table>\n",
       "<p>70 rows × 2 columns</p>\n",
       "</div>"
      ],
      "text/plain": [
       "           movie_title                                             actors\n",
       "0        ghost stories  Sobhita DhulipalaMrunal ThakurAvinash TiwaryJa...\n",
       "1       bhangra paa le      Sunny KaushalRukshar DhillonShriya Pilgaonkar\n",
       "2    sab kushal mangal            Akshaye KhannaRiva KishanPriyank Sharma\n",
       "3        shimla mirchi          Hema MaliniRajkummar RaoRakul Preet Singh\n",
       "4             chhapaak                     Deepika PadukoneVikrant Massey\n",
       "..                 ...                                                ...\n",
       "65             dhaakad               Kangana RanautMahaakshay Chakraborty\n",
       "66       aankh micholi  Abhimanyu DassaniMrunal ThakurParesh RawalShar...\n",
       "67       untitled film  Sidharth MalhotraMrunal ThakurAmyra DasturAdit...\n",
       "68          brahmastra  Amitabh BachchanRanbir KapoorAlia BhattMouni R...\n",
       "69  laal singh chaddha  Aamir KhanKareena KapoorVijay SethupathiSharma...\n",
       "\n",
       "[70 rows x 2 columns]"
      ]
     },
     "execution_count": 65,
     "metadata": {},
     "output_type": "execute_result"
    }
   ],
   "source": [
    "df"
   ]
  },
  {
   "cell_type": "code",
   "execution_count": null,
   "metadata": {},
   "outputs": [],
   "source": []
  }
 ],
 "metadata": {
  "kernelspec": {
   "display_name": "Python 3",
   "language": "python",
   "name": "python3"
  },
  "language_info": {
   "codemirror_mode": {
    "name": "ipython",
    "version": 3
   },
   "file_extension": ".py",
   "mimetype": "text/x-python",
   "name": "python",
   "nbconvert_exporter": "python",
   "pygments_lexer": "ipython3",
   "version": "3.7.6"
  }
 },
 "nbformat": 4,
 "nbformat_minor": 4
}
